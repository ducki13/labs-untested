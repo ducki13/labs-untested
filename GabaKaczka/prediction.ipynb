{
 "cells": [
  {
   "cell_type": "code",
   "execution_count": 580,
   "metadata": {
    "collapsed": false
   },
   "outputs": [],
   "source": [
    "import csv\n",
    "import pandas as pd\n",
    "import numpy as np\n",
    "import matplotlib.pyplot as plt\n",
    "import random"
   ]
  },
  {
   "cell_type": "code",
   "execution_count": 581,
   "metadata": {
    "collapsed": true
   },
   "outputs": [],
   "source": [
    "def get_data(location):\n",
    "    data = pd.read_csv(location, header=None)\n",
    "    data = data.sample(frac=1)\n",
    "   \n",
    "    if location.endswith('users_part.csv'):\n",
    "        data.columns = ['userId', 'registerCountry', 'signupTime']\n",
    "    elif location.endswith('conversions_part.csv'):\n",
    "        data.columns = ['userId', 'itemId', 'price', 'quantity', 'timestamp']\n",
    "    elif location.endswith('items.csv'):\n",
    "        data.columns = ['itemId', 'style', 'personality', 'color', 'theme', 'price', 'category']\n",
    "    elif location.endswith('users_ads.csv'):\n",
    "        data.columns = ['userId', 'utmSource', 'utmCampaign']\n",
    "    return data\n"
   ]
  },
  {
   "cell_type": "markdown",
   "metadata": {},
   "source": [
    "Obtains data from files."
   ]
  },
  {
   "cell_type": "code",
   "execution_count": 582,
   "metadata": {
    "collapsed": true
   },
   "outputs": [],
   "source": [
    "def getYearMonth(s):\n",
    "    return s.split(\"-\")[1]+\"-\"+s.split(\"-\")[2].split(\" \")[0]"
   ]
  },
  {
   "cell_type": "markdown",
   "metadata": {},
   "source": [
    "Util function: extracts months from dates."
   ]
  },
  {
   "cell_type": "code",
   "execution_count": 583,
   "metadata": {
    "collapsed": false
   },
   "outputs": [],
   "source": [
    " def number_of_new_users_per_month():\n",
    "    users = get_data('fb2015/users_part.csv')\n",
    "    users['month'] = pd.DatetimeIndex(users['signupTime']).month\n",
    "    users['year'] = pd.DatetimeIndex(users['signupTime']).year\n",
    "    users_per_yearmonth = users.groupby(['year', 'month'])['userId'].count()\n",
    "    users_per_yearmonth = users_per_yearmonth.sort_index()\n",
    "    users_per_yearmonth.plot(kind='bar')\n",
    "    plt.show()"
   ]
  },
  {
   "cell_type": "markdown",
   "metadata": {},
   "source": [
    "Displays number of newly registered users per month."
   ]
  },
  {
   "cell_type": "code",
   "execution_count": 584,
   "metadata": {
    "collapsed": false
   },
   "outputs": [],
   "source": [
    "def number_of_conversions_per_month():\n",
    "    conv = get_data('fb2015/conversions_part.csv')\n",
    "    conv['month'] = pd.DatetimeIndex(conv['timestamp']).month\n",
    "    conv['year'] = pd.DatetimeIndex(conv['timestamp']).year\n",
    "    conv_per_yearmonth = conv.groupby(['year', 'month']).count()\n",
    "    conv_per_yearmonth = conv_per_yearmonth.sort_index()\n",
    "    conv_per_yearmonth.plot()\n",
    "    plt.show()"
   ]
  },
  {
   "cell_type": "markdown",
   "metadata": {},
   "source": [
    "Displays number of conversions per month."
   ]
  },
  {
   "cell_type": "code",
   "execution_count": 585,
   "metadata": {
    "collapsed": true
   },
   "outputs": [],
   "source": [
    "def number_of_items_purchased_per_month():\n",
    "    conv = get_data('fb2015/conversions_part.csv')\n",
    "    conv['month'] = pd.DatetimeIndex(conv['timestamp']).month\n",
    "    conv['year'] = pd.DatetimeIndex(conv['timestamp']).year\n",
    "    conv_per_yearmonth = conv.groupby(['year', 'month'])['quantity'].count()\n",
    "    conv_per_yearmonth = conv_per_yearmonth.sort_index()\n",
    "    conv_per_yearmonth.plot()\n",
    "    plt.show()"
   ]
  },
  {
   "cell_type": "markdown",
   "metadata": {},
   "source": [
    "Displays number of items purchased per month."
   ]
  },
  {
   "cell_type": "code",
   "execution_count": 586,
   "metadata": {
    "collapsed": true
   },
   "outputs": [],
   "source": [
    "def income_per_month():\n",
    "    conv = get_data('fb2015/conversions_part.csv')\n",
    "    conv['month'] = pd.DatetimeIndex(conv['timestamp']).month\n",
    "    conv['year'] = pd.DatetimeIndex(conv['timestamp']).year\n",
    "    conv_per_yearmonth = conv.groupby(['year', 'month'])['price'].sum()\n",
    "    conv_per_yearmonth = conv_per_yearmonth.sort_index()\n",
    "    conv_per_yearmonth.plot()\n",
    "    plt.show()"
   ]
  },
  {
   "cell_type": "markdown",
   "metadata": {},
   "source": [
    "Displays income per month."
   ]
  },
  {
   "cell_type": "code",
   "execution_count": 587,
   "metadata": {
    "collapsed": false
   },
   "outputs": [],
   "source": [
    "def number_of_purchases_per_user_in_the_first_week():\n",
    "    users = get_data('fb2015/users_part.csv')\n",
    "    users['month'] = pd.DatetimeIndex(users['signupTime']).month\n",
    "    users['year'] = pd.DatetimeIndex(users['signupTime']).year\n",
    "    \n",
    "    conv = get_data('fb2015/conversions_part.csv')\n",
    "    conv['month'] = pd.DatetimeIndex(conv['timestamp']).month\n",
    "    conv['year'] = pd.DatetimeIndex(conv['timestamp']).year\n",
    "    \n",
    "    conv_in_the_first_week = pd.concat([users, conv], axis=1, join='inner')\n",
    "    \n",
    "    conv_per_yearmonth = conv.groupby(['userId'])['quantity'].sum()\n",
    "    print(conv_per_yearmonth)\n",
    "    "
   ]
  },
  {
   "cell_type": "markdown",
   "metadata": {},
   "source": [
    "Displays number of items purchased during the first week after signing in."
   ]
  },
  {
   "cell_type": "code",
   "execution_count": 588,
   "metadata": {
    "collapsed": false
   },
   "outputs": [
    {
     "name": "stdout",
     "output_type": "stream",
     "text": [
      "userId\n",
      "2825       6\n",
      "3733       1\n",
      "4345       1\n",
      "5241       5\n",
      "20571      1\n",
      "34532      1\n",
      "35410      1\n",
      "37539      1\n",
      "47729      1\n",
      "50772      3\n",
      "53294      1\n",
      "53299      1\n",
      "80228      1\n",
      "90444      1\n",
      "92599      1\n",
      "97733      1\n",
      "103482     1\n",
      "105688     2\n",
      "123767     1\n",
      "153413     1\n",
      "167435     1\n",
      "172218     1\n",
      "185750     1\n",
      "203883     1\n",
      "226214     1\n",
      "262456     1\n",
      "267932     2\n",
      "273955     1\n",
      "321110     1\n",
      "335359     1\n",
      "          ..\n",
      "4239337    1\n",
      "4262798    1\n",
      "4279273    1\n",
      "4303066    1\n",
      "4328036    1\n",
      "4350010    1\n",
      "4413675    1\n",
      "4415507    1\n",
      "4485887    1\n",
      "4541783    1\n",
      "4559816    1\n",
      "4571870    1\n",
      "4589219    1\n",
      "4607916    1\n",
      "4613774    1\n",
      "4721716    1\n",
      "4812008    1\n",
      "4835939    1\n",
      "4856587    2\n",
      "4935041    1\n",
      "4941948    1\n",
      "5144362    1\n",
      "5190812    1\n",
      "5207627    1\n",
      "5281675    1\n",
      "5284248    1\n",
      "5287683    2\n",
      "5443964    2\n",
      "5447573    1\n",
      "5647388    1\n",
      "Name: quantity, dtype: int64\n"
     ]
    }
   ],
   "source": [
    "number_of_purchases_per_user_in_the_first_week()"
   ]
  },
  {
   "cell_type": "code",
   "execution_count": 589,
   "metadata": {
    "collapsed": true
   },
   "outputs": [],
   "source": [
    "#conv = get_data('fb2015/conversions_part.csv')\n",
    "#users = get_data('fb2015/users_part.csv')\n",
    "#result = pd.concat([users, conv], axis=1, join='inner')\n",
    "\n",
    "#data = get_data('fb2015/users.csv')\n",
    "#data['signupTime'] = pd.to_datetime(data['signupTime'])#month\n",
    "#data['yearmonth'] = data['signupTime'].apply(lambda x: getYearMonth(x))\n",
    "#data.set_index(['signupTime'])\n",
    "#print(data['signupTime'].month)\n",
    "#ts = data.groupby(['yearmonth'].sum()#groupby([lambda x: x.year, lambda x: x.month]).sum()\n",
    "#ts.plot()\n",
    "#plt.show() \n",
    "#print(ts)\n",
    "#dates.groupby()\n",
    "#\n",
    "#print(data['yearmonth'])\n",
    "#ts = data['yearmonth'].cumsum()\n",
    "#ts = data['signupTime'].groupby([lambda x: x.year, lambda x: x.month]).sum()\n",
    "#df = pandas.DataFrame(np.random.randn(100, 4), columns=list('ABCD'))\n",
    "\n",
    "#In [120]: rows = random.sample(df.index, 10)\n",
    "#rindex =  np.array(sample(xrange(len(data)), 10))\n",
    "#rows = random.sample(data.index, 10)\n",
    "\n",
    "#data = data.ix[rows]\n",
    "\n",
    "# get 10 random rows from df\n",
    "#data = data.ix[rindex]"
   ]
  }
 ],
 "metadata": {
  "kernelspec": {
   "display_name": "Python 3",
   "language": "python",
   "name": "python3"
  },
  "language_info": {
   "codemirror_mode": {
    "name": "ipython",
    "version": 3
   },
   "file_extension": ".py",
   "mimetype": "text/x-python",
   "name": "python",
   "nbconvert_exporter": "python",
   "pygments_lexer": "ipython3",
   "version": "3.5.0"
  }
 },
 "nbformat": 4,
 "nbformat_minor": 0
}
